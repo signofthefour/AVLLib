{
  "nbformat": 4,
  "nbformat_minor": 0,
  "metadata": {
    "colab": {
      "name": "K-means_clustering.ipynb",
      "provenance": [],
      "collapsed_sections": [],
      "authorship_tag": "ABX9TyO/O06v2wWPRBHWirXH+kdG",
      "include_colab_link": true
    },
    "kernelspec": {
      "name": "python3",
      "display_name": "Python 3"
    }
  },
  "cells": [
    {
      "cell_type": "markdown",
      "metadata": {
        "id": "view-in-github",
        "colab_type": "text"
      },
      "source": [
        "<a href=\"https://colab.research.google.com/github/signofthefour/AVLLib/blob/master/K_means_clustering.ipynb\" target=\"_parent\"><img src=\"https://colab.research.google.com/assets/colab-badge.svg\" alt=\"Open In Colab\"/></a>"
      ]
    },
    {
      "cell_type": "markdown",
      "metadata": {
        "id": "i3_Uh1qJ_zFk",
        "colab_type": "text"
      },
      "source": [
        "The loss function of K_means_clustering:\n",
        "\n",
        "$\\mathcal{L}(Y, M) = \\sum_{i=1}^N \\sum_{j=1}^M  y_{ij}\\| \\mathbf{x_i} - \\mathbf{m_i}\\|_2^2$\n",
        "\n",
        "Conclusion, the problem is:\n",
        "\n",
        "$\\mathbf{Y, M} = \\arg\\min_{\\mathbf{Y}, \\mathbf{M}}\\sum_{i=1}^N \\sum_{j=1}^M  y_{ij}\\| \\mathbf{x_i} - \\mathbf{m_i}\\|_2^2$\n",
        "\n",
        "Subject to: $y_{ij} \\in {0, 1} \\forall x, y; \\sum_{i}^M y_{ij} = 1 \\forall i$\n",
        "\n",
        "$\\int_{0}^1$"
      ]
    },
    {
      "cell_type": "markdown",
      "metadata": {
        "id": "fhtc30Pi1zT9",
        "colab_type": "text"
      },
      "source": [
        "The energy contained in an analog signal, $x(t)$,\n",
        "is related to the magnitude of the signal squared integrated over time:\n",
        "$$E = \\int_{-\\infty}^{\\infty} |x(t)|^2dt$$\n",
        "By an extension of a theorem attributed to Parseval it can be shown that:\n",
        "$$\\int_{-\\infty}^{\\infty} |x(t)|^2 dt = \\int_{-\\infty}^{\\infty} |X(f)|^2df$$\n",
        "with $X(\\alpha)$ represents the **Continous Fourier Transform**\n",
        "\n",
        "Hence $|X(f)|^2$ equals to the energy density function, also refered as ***PS(Power Spectrum)***"
      ]
    },
    {
      "cell_type": "code",
      "metadata": {
        "id": "NSxcQnEqhn3b",
        "colab_type": "code",
        "colab": {}
      },
      "source": [
        ""
      ],
      "execution_count": null,
      "outputs": []
    }
  ]
}